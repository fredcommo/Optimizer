{
 "cells": [
  {
   "cell_type": "code",
   "execution_count": 35,
   "metadata": {},
   "outputs": [],
   "source": [
    "import optuna\n",
    "import pandas as pd\n",
    "import numpy as np\n",
    "from sklearn import linear_model\n",
    "from sklearn import ensemble\n",
    "from sklearn import datasets\n",
    "from sklearn import model_selection\n",
    "\n",
    "from xgboost import XGBClassifier"
   ]
  },
  {
   "cell_type": "code",
   "execution_count": 3,
   "metadata": {},
   "outputs": [
    {
     "data": {
      "text/plain": [
       "0      0\n",
       "1      0\n",
       "2      0\n",
       "3      0\n",
       "4      0\n",
       "      ..\n",
       "564    0\n",
       "565    0\n",
       "566    0\n",
       "567    0\n",
       "568    1\n",
       "Name: target, Length: 569, dtype: int64"
      ]
     },
     "execution_count": 3,
     "metadata": {},
     "output_type": "execute_result"
    }
   ],
   "source": [
    "X, y = datasets.load_breast_cancer(return_X_y=True, as_frame=True)"
   ]
  },
  {
   "cell_type": "code",
   "execution_count": 5,
   "metadata": {},
   "outputs": [],
   "source": [
    "from sklearn.model_selection import train_test_split\n",
    "\n",
    "X_train, X_test, y_train, y_test = train_test_split(X, y, test_size=0.2, random_state=123)"
   ]
  },
  {
   "cell_type": "code",
   "execution_count": 37,
   "metadata": {},
   "outputs": [
    {
     "name": "stdout",
     "output_type": "stream",
     "text": [
      "target   0   1\n",
      "row_0         \n",
      "0       38   1\n",
      "1        3  72\n",
      "Accuracy: 0.965\n"
     ]
    }
   ],
   "source": [
    "params = {\"n_estimators\": 100, \"max_depth\": 3, \"learning_rate\": 0.0001}\n",
    "xgb_class = XGBClassifier(**params)\n",
    "\n",
    "xgb_class.fit(X_train, y_train)\n",
    "\n",
    "fitted = xgb_class.predict(X_test)\n",
    "\n",
    "print(pd.crosstab(fitted, y_test))\n",
    "print(\"Accuracy: %.3f\" % np.mean(fitted == y_test))"
   ]
  },
  {
   "cell_type": "code",
   "execution_count": 47,
   "metadata": {},
   "outputs": [],
   "source": [
    "def _xgb_params(trial):\n",
    "    params = {\"n_estimators\": trial.suggest_int('n_estimators', 20, 100),\n",
    "              \"max_depth\": trial.suggest_int('max_depth', 2, 5),\n",
    "              \"colsample_bylevel\": trial.suggest_float(\"colsample_bylevel\", 0.2, 1),\n",
    "              \"learning_rate\": trial.suggest_float(\"learning_rate\", 0.01, 0.1)\n",
    "             }\n",
    "    return params\n",
    "\n",
    "def objective(trial):\n",
    "    params = _xgb_params(trial)\n",
    "    classifier = XGBClassifier(**params)\n",
    "    score = model_selection.cross_val_score(classifier, X, y, n_jobs=-1, cv=5)\n",
    "    return score.mean()"
   ]
  },
  {
   "cell_type": "code",
   "execution_count": 48,
   "metadata": {},
   "outputs": [
    {
     "name": "stderr",
     "output_type": "stream",
     "text": [
      "[I 2020-09-26 10:12:47,862] Finished trial#0 with value: 0.9490607048594939 with parameters: {'n_estimators': 33, 'max_depth': 2, 'colsample_bylevel': 0.8649097091371967, 'learning_rate': 0.05070932125430598}. Best is trial#0 with value: 0.9490607048594939.\n",
      "[I 2020-09-26 10:12:48,043] Finished trial#1 with value: 0.9648812296227295 with parameters: {'n_estimators': 45, 'max_depth': 5, 'colsample_bylevel': 0.2545295585110771, 'learning_rate': 0.015641426023596507}. Best is trial#1 with value: 0.9648812296227295.\n",
      "[I 2020-09-26 10:12:48,335] Finished trial#2 with value: 0.9631113181183046 with parameters: {'n_estimators': 91, 'max_depth': 3, 'colsample_bylevel': 0.892098353946494, 'learning_rate': 0.07590543544866524}. Best is trial#1 with value: 0.9648812296227295.\n",
      "[I 2020-09-26 10:12:48,500] Finished trial#3 with value: 0.956078248719143 with parameters: {'n_estimators': 40, 'max_depth': 3, 'colsample_bylevel': 0.25554365173799987, 'learning_rate': 0.0702568807505721}. Best is trial#1 with value: 0.9648812296227295.\n",
      "[I 2020-09-26 10:12:48,797] Finished trial#4 with value: 0.9613569321533924 with parameters: {'n_estimators': 70, 'max_depth': 5, 'colsample_bylevel': 0.7860096090243434, 'learning_rate': 0.07162409047674428}. Best is trial#1 with value: 0.9648812296227295.\n",
      "[I 2020-09-26 10:12:49,119] Finished trial#5 with value: 0.9578481602235677 with parameters: {'n_estimators': 84, 'max_depth': 3, 'colsample_bylevel': 0.6192213879138548, 'learning_rate': 0.03872714660285612}. Best is trial#1 with value: 0.9648812296227295.\n",
      "[I 2020-09-26 10:12:49,375] Finished trial#6 with value: 0.9613569321533924 with parameters: {'n_estimators': 67, 'max_depth': 3, 'colsample_bylevel': 0.7525077937792646, 'learning_rate': 0.0595602262569801}. Best is trial#1 with value: 0.9648812296227295.\n",
      "[I 2020-09-26 10:12:49,684] Finished trial#7 with value: 0.9560937742586555 with parameters: {'n_estimators': 64, 'max_depth': 5, 'colsample_bylevel': 0.8233836965160659, 'learning_rate': 0.034476881243686495}. Best is trial#1 with value: 0.9648812296227295.\n",
      "[I 2020-09-26 10:12:49,854] Finished trial#8 with value: 0.9543238627542306 with parameters: {'n_estimators': 27, 'max_depth': 2, 'colsample_bylevel': 0.8273023875079781, 'learning_rate': 0.09454708114102237}. Best is trial#1 with value: 0.9648812296227295.\n",
      "[I 2020-09-26 10:12:50,261] Finished trial#9 with value: 0.9525694767893185 with parameters: {'n_estimators': 98, 'max_depth': 2, 'colsample_bylevel': 0.5668501654620832, 'learning_rate': 0.020886183448074455}. Best is trial#1 with value: 0.9648812296227295.\n",
      "[I 2020-09-26 10:12:50,451] Finished trial#10 with value: 0.9543238627542306 with parameters: {'n_estimators': 48, 'max_depth': 4, 'colsample_bylevel': 0.20252093475812147, 'learning_rate': 0.011120257312022305}. Best is trial#1 with value: 0.9648812296227295.\n",
      "[I 2020-09-26 10:12:50,678] Finished trial#11 with value: 0.9578326346840551 with parameters: {'n_estimators': 50, 'max_depth': 4, 'colsample_bylevel': 0.3882113052692754, 'learning_rate': 0.09416954540508556}. Best is trial#1 with value: 0.9648812296227295.\n",
      "[I 2020-09-26 10:12:51,014] Finished trial#12 with value: 0.9666045645086166 with parameters: {'n_estimators': 87, 'max_depth': 4, 'colsample_bylevel': 0.4217791108431639, 'learning_rate': 0.07925704313754743}. Best is trial#12 with value: 0.9666045645086166.\n",
      "[I 2020-09-26 10:12:51,346] Finished trial#13 with value: 0.9683744760130415 with parameters: {'n_estimators': 80, 'max_depth': 5, 'colsample_bylevel': 0.38186127741821163, 'learning_rate': 0.08601302896313856}. Best is trial#13 with value: 0.9683744760130415.\n",
      "[I 2020-09-26 10:12:51,654] Finished trial#14 with value: 0.9718677224033534 with parameters: {'n_estimators': 80, 'max_depth': 4, 'colsample_bylevel': 0.40478920481808084, 'learning_rate': 0.08491723168471747}. Best is trial#14 with value: 0.9718677224033534.\n",
      "[I 2020-09-26 10:12:51,896] Finished trial#15 with value: 0.9666200900481291 with parameters: {'n_estimators': 77, 'max_depth': 5, 'colsample_bylevel': 0.41721931515779503, 'learning_rate': 0.08516869906394703}. Best is trial#14 with value: 0.9718677224033534.\n",
      "[I 2020-09-26 10:12:52,151] Finished trial#16 with value: 0.9631113181183046 with parameters: {'n_estimators': 77, 'max_depth': 4, 'colsample_bylevel': 0.5182862449742409, 'learning_rate': 0.09730650058970686}. Best is trial#14 with value: 0.9718677224033534.\n",
      "[I 2020-09-26 10:12:52,502] Finished trial#17 with value: 0.9701288619779536 with parameters: {'n_estimators': 100, 'max_depth': 4, 'colsample_bylevel': 0.3337158640756306, 'learning_rate': 0.06072130053181257}. Best is trial#14 with value: 0.9718677224033534.\n",
      "[I 2020-09-26 10:12:52,779] Finished trial#18 with value: 0.9683744760130415 with parameters: {'n_estimators': 98, 'max_depth': 4, 'colsample_bylevel': 0.2797364108500408, 'learning_rate': 0.05626593783412581}. Best is trial#14 with value: 0.9718677224033534.\n",
      "[I 2020-09-26 10:12:53,117] Finished trial#19 with value: 0.9631113181183046 with parameters: {'n_estimators': 100, 'max_depth': 4, 'colsample_bylevel': 0.6865446719384751, 'learning_rate': 0.06502510687532317}. Best is trial#14 with value: 0.9718677224033534.\n",
      "[I 2020-09-26 10:12:53,384] Finished trial#20 with value: 0.9631113181183046 with parameters: {'n_estimators': 92, 'max_depth': 3, 'colsample_bylevel': 0.49348226423331154, 'learning_rate': 0.046579105960399006}. Best is trial#14 with value: 0.9718677224033534.\n",
      "[I 2020-09-26 10:12:53,669] Finished trial#21 with value: 0.9683744760130415 with parameters: {'n_estimators': 100, 'max_depth': 4, 'colsample_bylevel': 0.31585225745302814, 'learning_rate': 0.05700589133726045}. Best is trial#14 with value: 0.9718677224033534.\n",
      "[I 2020-09-26 10:12:53,882] Finished trial#22 with value: 0.9630957925787922 with parameters: {'n_estimators': 56, 'max_depth': 5, 'colsample_bylevel': 0.34897223295206564, 'learning_rate': 0.08338441605439784}. Best is trial#14 with value: 0.9718677224033534.\n",
      "[I 2020-09-26 10:12:54,295] Finished trial#23 with value: 0.9578326346840551 with parameters: {'n_estimators': 95, 'max_depth': 4, 'colsample_bylevel': 0.9830401572543614, 'learning_rate': 0.03847435094499838}. Best is trial#14 with value: 0.9718677224033534.\n",
      "[I 2020-09-26 10:12:54,551] Finished trial#24 with value: 0.9683744760130415 with parameters: {'n_estimators': 88, 'max_depth': 4, 'colsample_bylevel': 0.3062051142241592, 'learning_rate': 0.06426434465530684}. Best is trial#14 with value: 0.9718677224033534.\n",
      "[I 2020-09-26 10:12:54,856] Finished trial#25 with value: 0.9683744760130415 with parameters: {'n_estimators': 87, 'max_depth': 4, 'colsample_bylevel': 0.469948761703318, 'learning_rate': 0.06465501572808455}. Best is trial#14 with value: 0.9718677224033534.\n",
      "[I 2020-09-26 10:12:55,112] Finished trial#26 with value: 0.9648657040832169 with parameters: {'n_estimators': 73, 'max_depth': 4, 'colsample_bylevel': 0.48699366572791536, 'learning_rate': 0.04780060392260868}. Best is trial#14 with value: 0.9718677224033534.\n",
      "[I 2020-09-26 10:12:55,338] Finished trial#27 with value: 0.9718987734823784 with parameters: {'n_estimators': 80, 'max_depth': 5, 'colsample_bylevel': 0.20950277453382715, 'learning_rate': 0.08864525921048523}. Best is trial#27 with value: 0.9718987734823784.\n",
      "[I 2020-09-26 10:12:55,544] Finished trial#28 with value: 0.9613724576929048 with parameters: {'n_estimators': 57, 'max_depth': 5, 'colsample_bylevel': 0.22909931175669648, 'learning_rate': 0.0998848330836152}. Best is trial#27 with value: 0.9718987734823784.\n",
      "[I 2020-09-26 10:12:55,762] Finished trial#29 with value: 0.9666045645086168 with parameters: {'n_estimators': 81, 'max_depth': 5, 'colsample_bylevel': 0.2118114919017161, 'learning_rate': 0.0914271717747758}. Best is trial#27 with value: 0.9718987734823784.\n",
      "[I 2020-09-26 10:12:56,000] Finished trial#30 with value: 0.9631113181183046 with parameters: {'n_estimators': 60, 'max_depth': 3, 'colsample_bylevel': 0.3394708681685491, 'learning_rate': 0.07811623291246542}. Best is trial#27 with value: 0.9718987734823784.\n"
     ]
    },
    {
     "name": "stderr",
     "output_type": "stream",
     "text": [
      "[I 2020-09-26 10:12:56,250] Finished trial#31 with value: 0.9666200900481291 with parameters: {'n_estimators': 74, 'max_depth': 4, 'colsample_bylevel': 0.438472730226608, 'learning_rate': 0.06611739296855408}. Best is trial#27 with value: 0.9718987734823784.\n",
      "[I 2020-09-26 10:12:56,528] Finished trial#32 with value: 0.9666200900481291 with parameters: {'n_estimators': 84, 'max_depth': 4, 'colsample_bylevel': 0.5820627180075566, 'learning_rate': 0.08862235828270829}. Best is trial#27 with value: 0.9718987734823784.\n",
      "[I 2020-09-26 10:12:56,777] Finished trial#33 with value: 0.9666200900481291 with parameters: {'n_estimators': 80, 'max_depth': 5, 'colsample_bylevel': 0.35982550189060597, 'learning_rate': 0.08448874357761149}. Best is trial#27 with value: 0.9718987734823784.\n",
      "[I 2020-09-26 10:12:57,058] Finished trial#34 with value: 0.9648657040832169 with parameters: {'n_estimators': 93, 'max_depth': 4, 'colsample_bylevel': 0.29761402451760044, 'learning_rate': 0.05643261999124647}. Best is trial#27 with value: 0.9718987734823784.\n",
      "[I 2020-09-26 10:12:57,308] Finished trial#35 with value: 0.9683744760130415 with parameters: {'n_estimators': 88, 'max_depth': 3, 'colsample_bylevel': 0.5159503248737524, 'learning_rate': 0.07090620955842912}. Best is trial#27 with value: 0.9718987734823784.\n",
      "[I 2020-09-26 10:12:57,578] Finished trial#36 with value: 0.9648657040832169 with parameters: {'n_estimators': 71, 'max_depth': 5, 'colsample_bylevel': 0.45377024979648817, 'learning_rate': 0.07452654230885938}. Best is trial#27 with value: 0.9718987734823784.\n",
      "[I 2020-09-26 10:12:57,788] Finished trial#37 with value: 0.9595714951094549 with parameters: {'n_estimators': 66, 'max_depth': 5, 'colsample_bylevel': 0.2565945912865186, 'learning_rate': 0.09960825908097114}. Best is trial#27 with value: 0.9718987734823784.\n",
      "[I 2020-09-26 10:12:58,045] Finished trial#38 with value: 0.9648657040832169 with parameters: {'n_estimators': 84, 'max_depth': 3, 'colsample_bylevel': 0.5391433572970781, 'learning_rate': 0.06088830202638173}. Best is trial#27 with value: 0.9718987734823784.\n",
      "[I 2020-09-26 10:12:58,296] Finished trial#39 with value: 0.95960254618848 with parameters: {'n_estimators': 100, 'max_depth': 3, 'colsample_bylevel': 0.2695745719698286, 'learning_rate': 0.028550330382315598}. Best is trial#27 with value: 0.9718987734823784.\n",
      "[I 2020-09-26 10:12:58,530] Finished trial#40 with value: 0.9701288619779538 with parameters: {'n_estimators': 96, 'max_depth': 4, 'colsample_bylevel': 0.3191621900221234, 'learning_rate': 0.07917731437028984}. Best is trial#27 with value: 0.9718987734823784.\n",
      "[I 2020-09-26 10:12:58,860] Finished trial#41 with value: 0.9613569321533924 with parameters: {'n_estimators': 95, 'max_depth': 4, 'colsample_bylevel': 0.6344551313032583, 'learning_rate': 0.08079687894282431}. Best is trial#27 with value: 0.9718987734823784.\n",
      "[I 2020-09-26 10:12:59,218] Finished trial#42 with value: 0.9666045645086166 with parameters: {'n_estimators': 90, 'max_depth': 4, 'colsample_bylevel': 0.39156933678424705, 'learning_rate': 0.0737035114009891}. Best is trial#27 with value: 0.9718987734823784.\n",
      "[I 2020-09-26 10:12:59,547] Finished trial#43 with value: 0.9683744760130415 with parameters: {'n_estimators': 96, 'max_depth': 4, 'colsample_bylevel': 0.31197583583014005, 'learning_rate': 0.05169106213417972}. Best is trial#27 with value: 0.9718987734823784.\n",
      "[I 2020-09-26 10:12:59,788] Finished trial#44 with value: 0.9666045645086166 with parameters: {'n_estimators': 100, 'max_depth': 4, 'colsample_bylevel': 0.23396522644687717, 'learning_rate': 0.08909675809071943}. Best is trial#27 with value: 0.9718987734823784.\n",
      "[I 2020-09-26 10:13:00,117] Finished trial#45 with value: 0.9648657040832168 with parameters: {'n_estimators': 85, 'max_depth': 4, 'colsample_bylevel': 0.44376770263186166, 'learning_rate': 0.0693743366438694}. Best is trial#27 with value: 0.9718987734823784.\n",
      "[I 2020-09-26 10:13:00,370] Finished trial#46 with value: 0.9631113181183046 with parameters: {'n_estimators': 90, 'max_depth': 3, 'colsample_bylevel': 0.46919506492336605, 'learning_rate': 0.07667453770758924}. Best is trial#27 with value: 0.9718987734823784.\n",
      "[I 2020-09-26 10:13:00,640] Finished trial#47 with value: 0.9648657040832168 with parameters: {'n_estimators': 76, 'max_depth': 4, 'colsample_bylevel': 0.3608565628145649, 'learning_rate': 0.06191946363401569}. Best is trial#27 with value: 0.9718987734823784.\n",
      "[I 2020-09-26 10:13:00,931] Finished trial#48 with value: 0.9666045645086166 with parameters: {'n_estimators': 80, 'max_depth': 5, 'colsample_bylevel': 0.39700299661582594, 'learning_rate': 0.09429824659051328}. Best is trial#27 with value: 0.9718987734823784.\n",
      "[I 2020-09-26 10:13:01,137] Finished trial#49 with value: 0.9596025461884802 with parameters: {'n_estimators': 69, 'max_depth': 5, 'colsample_bylevel': 0.2466015274092891, 'learning_rate': 0.08810598553005852}. Best is trial#27 with value: 0.9718987734823784.\n",
      "[I 2020-09-26 10:13:01,326] Finished trial#50 with value: 0.9525694767893185 with parameters: {'n_estimators': 34, 'max_depth': 2, 'colsample_bylevel': 0.20811265129066522, 'learning_rate': 0.08073216546159884}. Best is trial#27 with value: 0.9718987734823784.\n",
      "[I 2020-09-26 10:13:01,578] Finished trial#51 with value: 0.9683744760130415 with parameters: {'n_estimators': 92, 'max_depth': 4, 'colsample_bylevel': 0.33006752156561187, 'learning_rate': 0.05266021612788341}. Best is trial#27 with value: 0.9718987734823784.\n",
      "[I 2020-09-26 10:13:01,834] Finished trial#52 with value: 0.9631113181183046 with parameters: {'n_estimators': 97, 'max_depth': 4, 'colsample_bylevel': 0.2907334502982756, 'learning_rate': 0.051447460083767466}. Best is trial#27 with value: 0.9718987734823784.\n",
      "[I 2020-09-26 10:13:02,090] Finished trial#53 with value: 0.9666200900481291 with parameters: {'n_estimators': 92, 'max_depth': 4, 'colsample_bylevel': 0.3258392488297511, 'learning_rate': 0.0429312913688127}. Best is trial#27 with value: 0.9718987734823784.\n",
      "[I 2020-09-26 10:13:02,344] Finished trial#54 with value: 0.9683744760130415 with parameters: {'n_estimators': 86, 'max_depth': 4, 'colsample_bylevel': 0.41417812093143347, 'learning_rate': 0.06612201014281835}. Best is trial#27 with value: 0.9718987734823784.\n",
      "[I 2020-09-26 10:13:02,505] Finished trial#55 with value: 0.9613569321533924 with parameters: {'n_estimators': 20, 'max_depth': 4, 'colsample_bylevel': 0.32187156096098674, 'learning_rate': 0.05191880443388083}. Best is trial#27 with value: 0.9718987734823784.\n",
      "[I 2020-09-26 10:13:02,791] Finished trial#56 with value: 0.9631113181183046 with parameters: {'n_estimators': 99, 'max_depth': 3, 'colsample_bylevel': 0.6620821015915042, 'learning_rate': 0.07339664548050019}. Best is trial#27 with value: 0.9718987734823784.\n",
      "[I 2020-09-26 10:13:03,061] Finished trial#57 with value: 0.9630957925787922 with parameters: {'n_estimators': 82, 'max_depth': 3, 'colsample_bylevel': 0.5138694433050996, 'learning_rate': 0.07004452065675325}. Best is trial#27 with value: 0.9718987734823784.\n",
      "[I 2020-09-26 10:13:03,309] Finished trial#58 with value: 0.9701288619779538 with parameters: {'n_estimators': 86, 'max_depth': 4, 'colsample_bylevel': 0.41841079536842685, 'learning_rate': 0.06705222852183979}. Best is trial#27 with value: 0.9718987734823784.\n",
      "[I 2020-09-26 10:13:03,567] Finished trial#59 with value: 0.9666200900481291 with parameters: {'n_estimators': 94, 'max_depth': 4, 'colsample_bylevel': 0.37055404019266003, 'learning_rate': 0.05652769137412612}. Best is trial#27 with value: 0.9718987734823784.\n",
      "[I 2020-09-26 10:13:03,777] Finished trial#60 with value: 0.9613569321533924 with parameters: {'n_estimators': 78, 'max_depth': 4, 'colsample_bylevel': 0.26638978369954713, 'learning_rate': 0.059102617458075046}. Best is trial#27 with value: 0.9718987734823784.\n",
      "[I 2020-09-26 10:13:04,054] Finished trial#61 with value: 0.9648657040832169 with parameters: {'n_estimators': 89, 'max_depth': 3, 'colsample_bylevel': 0.5628081346398017, 'learning_rate': 0.06935919797624451}. Best is trial#27 with value: 0.9718987734823784.\n"
     ]
    },
    {
     "name": "stderr",
     "output_type": "stream",
     "text": [
      "[I 2020-09-26 10:13:04,323] Finished trial#62 with value: 0.9666200900481291 with parameters: {'n_estimators': 87, 'max_depth': 4, 'colsample_bylevel': 0.4181311674850686, 'learning_rate': 0.0644680251498802}. Best is trial#27 with value: 0.9718987734823784.\n",
      "[I 2020-09-26 10:13:04,562] Finished trial#63 with value: 0.9631113181183046 with parameters: {'n_estimators': 97, 'max_depth': 4, 'colsample_bylevel': 0.2836244136375592, 'learning_rate': 0.04613399566260796}. Best is trial#27 with value: 0.9718987734823784.\n",
      "[I 2020-09-26 10:13:04,807] Finished trial#64 with value: 0.9648657040832169 with parameters: {'n_estimators': 83, 'max_depth': 5, 'colsample_bylevel': 0.37168263173943145, 'learning_rate': 0.08310712516819627}. Best is trial#27 with value: 0.9718987734823784.\n",
      "[I 2020-09-26 10:13:05,084] Finished trial#65 with value: 0.9683744760130415 with parameters: {'n_estimators': 88, 'max_depth': 4, 'colsample_bylevel': 0.46976029255112983, 'learning_rate': 0.06291391544943739}. Best is trial#27 with value: 0.9718987734823784.\n",
      "[I 2020-09-26 10:13:05,323] Finished trial#66 with value: 0.9648657040832168 with parameters: {'n_estimators': 78, 'max_depth': 4, 'colsample_bylevel': 0.35411618069825157, 'learning_rate': 0.0625107988051871}. Best is trial#27 with value: 0.9718987734823784.\n",
      "[I 2020-09-26 10:13:05,577] Finished trial#67 with value: 0.9683744760130415 with parameters: {'n_estimators': 73, 'max_depth': 4, 'colsample_bylevel': 0.4708528528181355, 'learning_rate': 0.06743099653664932}. Best is trial#27 with value: 0.9718987734823784.\n",
      "[I 2020-09-26 10:13:05,774] Finished trial#68 with value: 0.9648501785437045 with parameters: {'n_estimators': 73, 'max_depth': 4, 'colsample_bylevel': 0.2001215970087292, 'learning_rate': 0.06725264851122342}. Best is trial#27 with value: 0.9718987734823784.\n",
      "[I 2020-09-26 10:13:06,011] Finished trial#69 with value: 0.971883247942866 with parameters: {'n_estimators': 85, 'max_depth': 4, 'colsample_bylevel': 0.4051800556178544, 'learning_rate': 0.09117509897068304}. Best is trial#27 with value: 0.9718987734823784.\n",
      "[I 2020-09-26 10:13:06,278] Finished trial#70 with value: 0.971883247942866 with parameters: {'n_estimators': 76, 'max_depth': 4, 'colsample_bylevel': 0.407487345031448, 'learning_rate': 0.09147702552892084}. Best is trial#27 with value: 0.9718987734823784.\n",
      "[I 2020-09-26 10:13:06,514] Finished trial#71 with value: 0.9666045645086166 with parameters: {'n_estimators': 75, 'max_depth': 4, 'colsample_bylevel': 0.3995630476053447, 'learning_rate': 0.09251833150851366}. Best is trial#27 with value: 0.9718987734823784.\n",
      "[I 2020-09-26 10:13:06,757] Finished trial#72 with value: 0.9701288619779536 with parameters: {'n_estimators': 82, 'max_depth': 4, 'colsample_bylevel': 0.4197805148664632, 'learning_rate': 0.09044066716072903}. Best is trial#27 with value: 0.9718987734823784.\n",
      "[I 2020-09-26 10:13:06,995] Finished trial#73 with value: 0.9701288619779536 with parameters: {'n_estimators': 79, 'max_depth': 4, 'colsample_bylevel': 0.424954720364805, 'learning_rate': 0.09690251983708659}. Best is trial#27 with value: 0.9718987734823784.\n",
      "[I 2020-09-26 10:13:07,246] Finished trial#74 with value: 0.9683744760130415 with parameters: {'n_estimators': 79, 'max_depth': 4, 'colsample_bylevel': 0.4383136650648175, 'learning_rate': 0.09674059522821217}. Best is trial#27 with value: 0.9718987734823784.\n",
      "[I 2020-09-26 10:13:07,490] Finished trial#75 with value: 0.9683744760130415 with parameters: {'n_estimators': 83, 'max_depth': 4, 'colsample_bylevel': 0.4920740496931053, 'learning_rate': 0.09675284994781864}. Best is trial#27 with value: 0.9718987734823784.\n",
      "[I 2020-09-26 10:13:07,721] Finished trial#76 with value: 0.9701288619779538 with parameters: {'n_estimators': 69, 'max_depth': 4, 'colsample_bylevel': 0.4276108519978829, 'learning_rate': 0.09217515159188706}. Best is trial#27 with value: 0.9718987734823784.\n",
      "[I 2020-09-26 10:13:07,946] Finished trial#77 with value: 0.9631113181183046 with parameters: {'n_estimators': 69, 'max_depth': 4, 'colsample_bylevel': 0.38400741789254367, 'learning_rate': 0.08710638042108973}. Best is trial#27 with value: 0.9718987734823784.\n",
      "[I 2020-09-26 10:13:08,174] Finished trial#78 with value: 0.9648501785437045 with parameters: {'n_estimators': 72, 'max_depth': 5, 'colsample_bylevel': 0.3443146073042418, 'learning_rate': 0.08292886461439603}. Best is trial#27 with value: 0.9718987734823784.\n",
      "[I 2020-09-26 10:13:08,414] Finished trial#79 with value: 0.9701288619779538 with parameters: {'n_estimators': 63, 'max_depth': 4, 'colsample_bylevel': 0.4097231014878194, 'learning_rate': 0.09161439251294222}. Best is trial#27 with value: 0.9718987734823784.\n",
      "[I 2020-09-26 10:13:08,654] Finished trial#80 with value: 0.9613414066138798 with parameters: {'n_estimators': 62, 'max_depth': 4, 'colsample_bylevel': 0.5416472365218503, 'learning_rate': 0.09259308028959182}. Best is trial#27 with value: 0.9718987734823784.\n",
      "[I 2020-09-26 10:13:08,885] Finished trial#81 with value: 0.9683589504735288 with parameters: {'n_estimators': 66, 'max_depth': 4, 'colsample_bylevel': 0.4013650273485069, 'learning_rate': 0.09026996848163747}. Best is trial#27 with value: 0.9718987734823784.\n",
      "[I 2020-09-26 10:13:09,113] Finished trial#82 with value: 0.9648657040832169 with parameters: {'n_estimators': 64, 'max_depth': 4, 'colsample_bylevel': 0.45003231098541174, 'learning_rate': 0.08633291593874676}. Best is trial#27 with value: 0.9718987734823784.\n",
      "[I 2020-09-26 10:13:09,330] Finished trial#83 with value: 0.9701133364384411 with parameters: {'n_estimators': 58, 'max_depth': 4, 'colsample_bylevel': 0.4222628245521873, 'learning_rate': 0.09981227328191003}. Best is trial#27 with value: 0.9718987734823784.\n",
      "[I 2020-09-26 10:13:09,584] Finished trial#84 with value: 0.9683744760130415 with parameters: {'n_estimators': 76, 'max_depth': 4, 'colsample_bylevel': 0.43343921296492033, 'learning_rate': 0.09475255080729363}. Best is trial#27 with value: 0.9718987734823784.\n",
      "[I 2020-09-26 10:13:09,803] Finished trial#85 with value: 0.9613414066138798 with parameters: {'n_estimators': 68, 'max_depth': 4, 'colsample_bylevel': 0.38230660994551335, 'learning_rate': 0.09771770834386671}. Best is trial#27 with value: 0.9718987734823784.\n",
      "[I 2020-09-26 10:13:10,025] Finished trial#86 with value: 0.9595870206489675 with parameters: {'n_estimators': 71, 'max_depth': 4, 'colsample_bylevel': 0.3406488448789098, 'learning_rate': 0.07912338345565595}. Best is trial#27 with value: 0.9718987734823784.\n",
      "[I 2020-09-26 10:13:10,285] Finished trial#87 with value: 0.9595870206489675 with parameters: {'n_estimators': 55, 'max_depth': 4, 'colsample_bylevel': 0.7337148338332902, 'learning_rate': 0.08184078430106717}. Best is trial#27 with value: 0.9718987734823784.\n",
      "[I 2020-09-26 10:13:10,533] Finished trial#88 with value: 0.9701288619779536 with parameters: {'n_estimators': 81, 'max_depth': 4, 'colsample_bylevel': 0.40689017319403387, 'learning_rate': 0.08534333182418587}. Best is trial#27 with value: 0.9718987734823784.\n",
      "[I 2020-09-26 10:13:10,758] Finished trial#89 with value: 0.9666200900481291 with parameters: {'n_estimators': 85, 'max_depth': 5, 'colsample_bylevel': 0.29864290981351715, 'learning_rate': 0.08880036785892703}. Best is trial#27 with value: 0.9718987734823784.\n",
      "[I 2020-09-26 10:13:10,981] Finished trial#90 with value: 0.9631113181183046 with parameters: {'n_estimators': 63, 'max_depth': 4, 'colsample_bylevel': 0.37119348872249397, 'learning_rate': 0.07642291680156771}. Best is trial#27 with value: 0.9718987734823784.\n",
      "[I 2020-09-26 10:13:11,263] Finished trial#91 with value: 0.9648657040832168 with parameters: {'n_estimators': 78, 'max_depth': 4, 'colsample_bylevel': 0.5011153169944664, 'learning_rate': 0.09233111087282467}. Best is trial#27 with value: 0.9718987734823784.\n",
      "[I 2020-09-26 10:13:11,505] Finished trial#92 with value: 0.9666200900481293 with parameters: {'n_estimators': 66, 'max_depth': 4, 'colsample_bylevel': 0.45652423642110745, 'learning_rate': 0.08709945094218763}. Best is trial#27 with value: 0.9718987734823784.\n"
     ]
    },
    {
     "name": "stderr",
     "output_type": "stream",
     "text": [
      "[I 2020-09-26 10:13:11,774] Finished trial#93 with value: 0.9613569321533924 with parameters: {'n_estimators': 53, 'max_depth': 4, 'colsample_bylevel': 0.9115228556410152, 'learning_rate': 0.09446112915001516}. Best is trial#27 with value: 0.9718987734823784.\n",
      "[I 2020-09-26 10:13:12,008] Finished trial#94 with value: 0.9613414066138798 with parameters: {'n_estimators': 75, 'max_depth': 4, 'colsample_bylevel': 0.3538594248598275, 'learning_rate': 0.09125430972253816}. Best is trial#27 with value: 0.9718987734823784.\n",
      "[I 2020-09-26 10:13:12,252] Finished trial#95 with value: 0.9701133364384411 with parameters: {'n_estimators': 81, 'max_depth': 4, 'colsample_bylevel': 0.40605149470680957, 'learning_rate': 0.0845869613323636}. Best is trial#27 with value: 0.9718987734823784.\n",
      "[I 2020-09-26 10:13:12,471] Finished trial#96 with value: 0.9666045645086166 with parameters: {'n_estimators': 61, 'max_depth': 4, 'colsample_bylevel': 0.4259326427316849, 'learning_rate': 0.09003389439673593}. Best is trial#27 with value: 0.9718987734823784.\n",
      "[I 2020-09-26 10:13:12,781] Finished trial#97 with value: 0.9648657040832169 with parameters: {'n_estimators': 85, 'max_depth': 4, 'colsample_bylevel': 0.3147905338049496, 'learning_rate': 0.07761624124584443}. Best is trial#27 with value: 0.9718987734823784.\n",
      "[I 2020-09-26 10:13:12,999] Finished trial#98 with value: 0.9648657040832168 with parameters: {'n_estimators': 82, 'max_depth': 4, 'colsample_bylevel': 0.2307770136568905, 'learning_rate': 0.05971052666217036}. Best is trial#27 with value: 0.9718987734823784.\n",
      "[I 2020-09-26 10:13:13,247] Finished trial#99 with value: 0.9701133364384411 with parameters: {'n_estimators': 90, 'max_depth': 4, 'colsample_bylevel': 0.38715337537053474, 'learning_rate': 0.08539603173898826}. Best is trial#27 with value: 0.9718987734823784.\n"
     ]
    }
   ],
   "source": [
    "study = optuna.create_study(direction=\"maximize\")\n",
    "study.optimize(objective, n_trials=100, )"
   ]
  },
  {
   "cell_type": "code",
   "execution_count": 49,
   "metadata": {},
   "outputs": [
    {
     "name": "stdout",
     "output_type": "stream",
     "text": [
      "{'n_estimators': 80, 'max_depth': 5, 'colsample_bylevel': 0.20950277453382715, 'learning_rate': 0.08864525921048523}\n",
      "target   0   1\n",
      "row_0         \n",
      "0       39   1\n",
      "1        2  72\n",
      "Accuracy: 0.974\n"
     ]
    }
   ],
   "source": [
    "best_params = study.best_params\n",
    "print(best_params)\n",
    "\n",
    "xgb_class = XGBClassifier(**best_params)\n",
    "\n",
    "xgb_class.fit(X_train, y_train)\n",
    "\n",
    "fitted = xgb_class.predict(X_test)\n",
    "\n",
    "print(pd.crosstab(fitted, y_test))\n",
    "print(\"Accuracy: %.3f\" % np.mean(fitted == y_test))"
   ]
  },
  {
   "cell_type": "code",
   "execution_count": 51,
   "metadata": {},
   "outputs": [
    {
     "data": {
      "text/plain": [
       "0.9718987734823784"
      ]
     },
     "execution_count": 51,
     "metadata": {},
     "output_type": "execute_result"
    }
   ],
   "source": [
    "study.best_value"
   ]
  },
  {
   "cell_type": "code",
   "execution_count": 25,
   "metadata": {},
   "outputs": [
    {
     "data": {
      "text/html": [
       "<div>\n",
       "<style scoped>\n",
       "    .dataframe tbody tr th:only-of-type {\n",
       "        vertical-align: middle;\n",
       "    }\n",
       "\n",
       "    .dataframe tbody tr th {\n",
       "        vertical-align: top;\n",
       "    }\n",
       "\n",
       "    .dataframe thead th {\n",
       "        text-align: right;\n",
       "    }\n",
       "</style>\n",
       "<table border=\"1\" class=\"dataframe\">\n",
       "  <thead>\n",
       "    <tr style=\"text-align: right;\">\n",
       "      <th>target</th>\n",
       "      <th>0</th>\n",
       "      <th>1</th>\n",
       "    </tr>\n",
       "    <tr>\n",
       "      <th>row_0</th>\n",
       "      <th></th>\n",
       "      <th></th>\n",
       "    </tr>\n",
       "  </thead>\n",
       "  <tbody>\n",
       "    <tr>\n",
       "      <th>0</th>\n",
       "      <td>38</td>\n",
       "      <td>1</td>\n",
       "    </tr>\n",
       "    <tr>\n",
       "      <th>1</th>\n",
       "      <td>3</td>\n",
       "      <td>72</td>\n",
       "    </tr>\n",
       "  </tbody>\n",
       "</table>\n",
       "</div>"
      ],
      "text/plain": [
       "target   0   1\n",
       "row_0         \n",
       "0       38   1\n",
       "1        3  72"
      ]
     },
     "execution_count": 25,
     "metadata": {},
     "output_type": "execute_result"
    }
   ],
   "source": [
    "pd.crosstab(fitted, y_test)"
   ]
  },
  {
   "cell_type": "code",
   "execution_count": null,
   "metadata": {},
   "outputs": [],
   "source": []
  }
 ],
 "metadata": {
  "kernelspec": {
   "display_name": "Python37 (optuna)",
   "language": "python",
   "name": "optuna"
  },
  "language_info": {
   "codemirror_mode": {
    "name": "ipython",
    "version": 3
   },
   "file_extension": ".py",
   "mimetype": "text/x-python",
   "name": "python",
   "nbconvert_exporter": "python",
   "pygments_lexer": "ipython3",
   "version": "3.7.8"
  }
 },
 "nbformat": 4,
 "nbformat_minor": 4
}
